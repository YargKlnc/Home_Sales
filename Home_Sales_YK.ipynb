{
  "cells": [
    {
      "cell_type": "code",
      "execution_count": 1,
      "metadata": {
        "colab": {
          "base_uri": "https://localhost:8080/"
        },
        "id": "a_KW73O2e3dw",
        "outputId": "1380c48e-3119-4526-c880-f928dc989c07"
      },
      "outputs": [
        {
          "output_type": "stream",
          "name": "stdout",
          "text": [
            "Get:1 https://cloud.r-project.org/bin/linux/ubuntu jammy-cran40/ InRelease [3,626 B]\n",
            "Hit:2 https://developer.download.nvidia.com/compute/cuda/repos/ubuntu2204/x86_64  InRelease\n",
            "Get:3 http://security.ubuntu.com/ubuntu jammy-security InRelease [110 kB]\n",
            "Get:4 https://ppa.launchpadcontent.net/c2d4u.team/c2d4u4.0+/ubuntu jammy InRelease [18.1 kB]\n",
            "Hit:5 https://ppa.launchpadcontent.net/deadsnakes/ppa/ubuntu jammy InRelease\n",
            "Hit:6 https://ppa.launchpadcontent.net/graphics-drivers/ppa/ubuntu jammy InRelease\n",
            "Hit:7 https://ppa.launchpadcontent.net/ubuntugis/ppa/ubuntu jammy InRelease\n",
            "Get:8 https://ppa.launchpadcontent.net/c2d4u.team/c2d4u4.0+/ubuntu jammy/main Sources [2,268 kB]\n",
            "Hit:9 http://archive.ubuntu.com/ubuntu jammy InRelease\n",
            "Get:10 http://archive.ubuntu.com/ubuntu jammy-updates InRelease [119 kB]\n",
            "Hit:11 http://archive.ubuntu.com/ubuntu jammy-backports InRelease\n",
            "Get:12 http://archive.ubuntu.com/ubuntu jammy-updates/main amd64 Packages [1,678 kB]\n",
            "Get:13 http://archive.ubuntu.com/ubuntu jammy-updates/universe amd64 Packages [1,333 kB]\n",
            "Get:14 https://ppa.launchpadcontent.net/c2d4u.team/c2d4u4.0+/ubuntu jammy/main amd64 Packages [1,164 kB]\n",
            "Fetched 6,693 kB in 6s (1,105 kB/s)\n",
            "Reading package lists... Done\n"
          ]
        }
      ],
      "source": [
        "# Importing packages\n",
        "import os\n",
        "# Finding the latest version of spark on http://www.apache.org/dist/spark/ which is 'spark-3.5.0'\n",
        "spark_version = 'spark-3.5.0'\n",
        "os.environ['SPARK_VERSION']=spark_version\n",
        "\n",
        "# Installing Spark and Java\n",
        "!apt-get update\n",
        "!apt-get install openjdk-11-jdk-headless -qq > /dev/null\n",
        "!wget -q http://www.apache.org/dist/spark/$SPARK_VERSION/$SPARK_VERSION-bin-hadoop3.tgz\n",
        "!tar xf $SPARK_VERSION-bin-hadoop3.tgz\n",
        "!pip install -q findspark\n",
        "\n",
        "# Setting Environment Variables\n",
        "os.environ[\"JAVA_HOME\"] = \"/usr/lib/jvm/java-11-openjdk-amd64\"\n",
        "os.environ[\"SPARK_HOME\"] = f\"/content/{spark_version}-bin-hadoop3\"\n",
        "\n",
        "# # Importing findspark and initializing\n",
        "import findspark\n",
        "findspark.init()\n",
        "\n",
        "# !wget -q https://dlcdn.apache.org/spark/spark-3.5.0/spark-3.5.0-bin-hadoop3.tgz\n",
        "# !tar xf spark-3.5.0-bin-hadoop3.tgz\n",
        "# !pip install -q findspark\n",
        "# !pip install pyspark\n",
        "# !pip install py4j\n",
        "# import os\n",
        "# import sys\n",
        "# os.environ[\"JAVA_HOME\"] = \"/usr/lib/jvm/java-8-openjdk-amd64\"\n",
        "# os.environ[\"SPARK_HOME\"] = \"/content/spark-3.5.0-bin-hadoop3\"\n",
        "\n",
        "# Start a SparkSession\n",
        "# import findspark\n",
        "# findspark.init()"
      ]
    },
    {
      "cell_type": "code",
      "source": [
        "# Importing packages\n",
        "from pyspark.sql import SparkSession\n",
        "import time\n",
        "\n",
        "# Creating a SparkSession\n",
        "spark = SparkSession.builder.appName(\"SparkSQL\").getOrCreate()"
      ],
      "metadata": {
        "id": "sAsAukkqVGsc"
      },
      "execution_count": 2,
      "outputs": []
    },
    {
      "cell_type": "code",
      "execution_count": 3,
      "metadata": {
        "id": "wOJqxG_RPSwp",
        "colab": {
          "base_uri": "https://localhost:8080/"
        },
        "outputId": "c2522279-dd10-4707-d8ab-efced79d3d9a"
      },
      "outputs": [
        {
          "output_type": "stream",
          "name": "stdout",
          "text": [
            "+--------------------+----------+----------+------+--------+---------+-----------+--------+------+----------+----+\n",
            "|                  id|      date|date_built| price|bedrooms|bathrooms|sqft_living|sqft_lot|floors|waterfront|view|\n",
            "+--------------------+----------+----------+------+--------+---------+-----------+--------+------+----------+----+\n",
            "|f8a53099-ba1c-47d...|2022-04-08|      2016|936923|       4|        3|       3167|   11733|     2|         1|  76|\n",
            "|7530a2d8-1ae3-451...|2021-06-13|      2013|379628|       2|        2|       2235|   14384|     1|         0|  23|\n",
            "|43de979c-0bf0-4c9...|2019-04-12|      2014|417866|       2|        2|       2127|   10575|     2|         0|   0|\n",
            "|b672c137-b88c-48b...|2019-10-16|      2016|239895|       2|        2|       1631|   11149|     2|         0|   0|\n",
            "|e0726d4d-d595-407...|2022-01-08|      2017|424418|       3|        2|       2249|   13878|     2|         0|   4|\n",
            "|5aa00529-0533-46b...|2019-01-30|      2017|218712|       2|        3|       1965|   14375|     2|         0|   7|\n",
            "|131492a1-72e2-4a8...|2020-02-08|      2017|419199|       2|        3|       2062|    8876|     2|         0|   6|\n",
            "|8d54a71b-c520-44e...|2019-07-21|      2010|323956|       2|        3|       1506|   11816|     1|         0|  25|\n",
            "|e81aacfe-17fe-46b...|2020-06-16|      2016|181925|       3|        3|       2137|   11709|     2|         0|  22|\n",
            "|2ed8d509-7372-46d...|2021-08-06|      2015|258710|       3|        3|       1918|    9666|     1|         0|  25|\n",
            "|f876d86f-3c9f-42b...|2019-02-27|      2011|167864|       3|        3|       2471|   13924|     2|         0|  15|\n",
            "|0a2bd445-8508-4d8...|2021-12-30|      2014|337527|       2|        3|       1926|   12556|     1|         0|  23|\n",
            "|941bad30-eb49-4a7...|2020-05-09|      2015|229896|       3|        3|       2197|    8641|     1|         0|   3|\n",
            "|dd61eb34-6589-4c0...|2021-07-25|      2016|210247|       3|        2|       1672|   11986|     2|         0|  28|\n",
            "|f1e4cef7-d151-439...|2019-02-01|      2011|398667|       2|        3|       2331|   11356|     1|         0|   7|\n",
            "|ea620c7b-c2f7-4c6...|2021-05-31|      2011|437958|       3|        3|       2356|   11052|     1|         0|  26|\n",
            "|f233cb41-6f33-4b0...|2021-07-18|      2016|437375|       4|        3|       1704|   11721|     2|         0|  34|\n",
            "|c797ca12-52cd-4b1...|2019-06-08|      2015|288650|       2|        3|       2100|   10419|     2|         0|   7|\n",
            "|0cfe57f3-28c2-472...|2019-10-04|      2015|308313|       3|        3|       1960|    9453|     2|         0|   2|\n",
            "|4566cd2a-ac6e-435...|2019-07-15|      2016|177541|       3|        3|       2130|   10517|     2|         0|  25|\n",
            "+--------------------+----------+----------+------+--------+---------+-----------+--------+------+----------+----+\n",
            "only showing top 20 rows\n",
            "\n"
          ]
        }
      ],
      "source": [
        "# 1. Reading in the AWS S3 bucket into a DataFrame.\n",
        "from pyspark import SparkFiles\n",
        "url = \"https://2u-data-curriculum-team.s3.amazonaws.com/dataviz-classroom/v1.2/22-big-data/home_sales_revised.csv\"\n",
        "spark.sparkContext.addFile(url)\n",
        "df = spark.read.csv(SparkFiles.get(\"home_sales_revised.csv\"), sep=\",\", header=True)\n",
        "df.show()\n"
      ]
    },
    {
      "cell_type": "code",
      "execution_count": 4,
      "metadata": {
        "id": "RoljcJ7WPpnm"
      },
      "outputs": [],
      "source": [
        "# 2. Creating a temporary view of the DataFrame\n",
        "df.createOrReplaceTempView('home_sales')\n"
      ]
    },
    {
      "cell_type": "code",
      "execution_count": 5,
      "metadata": {
        "id": "L6fkwOeOmqvq",
        "colab": {
          "base_uri": "https://localhost:8080/"
        },
        "outputId": "6ba669f4-7943-49d2-d788-eb44800fc5a7"
      },
      "outputs": [
        {
          "output_type": "stream",
          "name": "stdout",
          "text": [
            "+---------+----+\n",
            "|AVG_PRICE|YEAR|\n",
            "+---------+----+\n",
            "|296363.88|2022|\n",
            "|301819.44|2021|\n",
            "|298353.78|2020|\n",
            "| 300263.7|2019|\n",
            "+---------+----+\n",
            "\n"
          ]
        }
      ],
      "source": [
        "# 3. The average price for a four bedroom house sold in each year rounded to two decimal places\n",
        "avg_price_for_4_bedroom = spark.sql(\"SELECT ROUND(AVG(price),2) AS AVG_PRICE, YEAR(date) AS YEAR FROM home_sales WHERE bedrooms == 4 GROUP by YEAR ORDER by YEAR DESC\")\n",
        "avg_price_for_4_bedroom.show()"
      ]
    },
    {
      "cell_type": "code",
      "execution_count": 6,
      "metadata": {
        "id": "l8p_tUS8h8it",
        "colab": {
          "base_uri": "https://localhost:8080/"
        },
        "outputId": "5e7bcc43-d2fd-493d-bd89-25f812b1f14f"
      },
      "outputs": [
        {
          "output_type": "stream",
          "name": "stdout",
          "text": [
            "+---------+----+\n",
            "|AVG_PRICE|YEAR|\n",
            "+---------+----+\n",
            "|292676.79|2017|\n",
            "|290555.07|2016|\n",
            "| 288770.3|2015|\n",
            "|290852.27|2014|\n",
            "|295962.27|2013|\n",
            "|293683.19|2012|\n",
            "|291117.47|2011|\n",
            "|292859.62|2010|\n",
            "+---------+----+\n",
            "\n"
          ]
        }
      ],
      "source": [
        "# 4. The average price of a home for each year the home was built that have 3 bedrooms and 3 bathrooms rounded to two decimal places\n",
        "avg_price_for_3bed_3bath = spark.sql(\"SELECT ROUND(AVG(price),2) AS AVG_PRICE, YEAR(date_built) AS YEAR FROM home_sales WHERE bedrooms == 3 and bathrooms == 3 GROUP by YEAR ORDER by YEAR DESC\")\n",
        "avg_price_for_3bed_3bath.show()"
      ]
    },
    {
      "cell_type": "code",
      "execution_count": 7,
      "metadata": {
        "id": "Y-Eytz64liDU",
        "colab": {
          "base_uri": "https://localhost:8080/"
        },
        "outputId": "a0439e23-a5f5-4fbe-a715-6f901b7fe0bb"
      },
      "outputs": [
        {
          "output_type": "stream",
          "name": "stdout",
          "text": [
            "+---------+----------+\n",
            "|AVG_PRICE|BUILT_YEAR|\n",
            "+---------+----------+\n",
            "|280317.58|      2017|\n",
            "| 293965.1|      2016|\n",
            "|297609.97|      2015|\n",
            "|298264.72|      2014|\n",
            "|303676.79|      2013|\n",
            "|307539.97|      2012|\n",
            "|276553.81|      2011|\n",
            "|285010.22|      2010|\n",
            "+---------+----------+\n",
            "\n"
          ]
        }
      ],
      "source": [
        "# 5. The average price of a home for each year built that have 3 bedrooms, 3 bathrooms, with two floors,\n",
        "# and are greater than or equal to 2,000 square feet rounded to two decimal places\n",
        "avg_price_for_3bed_3bath_2floor = spark.sql(\"SELECT ROUND(AVG(price),2) AS AVG_PRICE, YEAR(date_built) AS BUILT_YEAR FROM home_sales WHERE bedrooms == 3 and bathrooms == 3 and sqft_living >= 2000 and floors == 2 GROUP by BUILT_YEAR ORDER by BUILT_YEAR DESC\")\n",
        "avg_price_for_3bed_3bath_2floor.show()\n"
      ]
    },
    {
      "cell_type": "code",
      "execution_count": 8,
      "metadata": {
        "colab": {
          "base_uri": "https://localhost:8080/"
        },
        "id": "GUrfgOX1pCRd",
        "outputId": "ad10c5ff-d004-4d58-d3aa-f47765fd76cf"
      },
      "outputs": [
        {
          "output_type": "stream",
          "name": "stdout",
          "text": [
            "+----------+-----------+\n",
            "| AVG_PRICE|View_Rating|\n",
            "+----------+-----------+\n",
            "|1061201.42|         99|\n",
            "|1053739.33|         98|\n",
            "|1129040.15|         97|\n",
            "|1017815.92|         96|\n",
            "| 1054325.6|         95|\n",
            "| 1033536.2|         94|\n",
            "|1026006.06|         93|\n",
            "| 970402.55|         92|\n",
            "|1137372.73|         91|\n",
            "|1062654.16|         90|\n",
            "|1107839.15|         89|\n",
            "|1031719.35|         88|\n",
            "| 1072285.2|         87|\n",
            "|1070444.25|         86|\n",
            "|1056336.74|         85|\n",
            "|1117233.13|         84|\n",
            "|1033965.93|         83|\n",
            "| 1063498.0|         82|\n",
            "|1053472.79|         81|\n",
            "| 991767.38|         80|\n",
            "+----------+-----------+\n",
            "only showing top 20 rows\n",
            "\n",
            "--- 1.720351219177246 seconds ---\n"
          ]
        }
      ],
      "source": [
        "# 6. The \"view\" ratings for the average price of a home, rounded to two decimal places, where the homes are greater than\n",
        "# or equal to $350,000 and determining the run time for this query\n",
        "\n",
        "start_time = time.time()\n",
        "\n",
        "view_avg_price= spark.sql(\"SELECT ROUND(AVG(price),2) AS AVG_PRICE, view AS View_Rating FROM home_sales GROUP by View_Rating HAVING AVG_PRICE >=350000 ORDER by View_Rating DESC\")\n",
        "view_avg_price.show()\n",
        "\n",
        "print(\"--- %s seconds ---\" % (time.time() - start_time))"
      ]
    },
    {
      "cell_type": "code",
      "execution_count": 9,
      "metadata": {
        "id": "KAhk3ZD2tFy8",
        "colab": {
          "base_uri": "https://localhost:8080/"
        },
        "outputId": "98998261-dedc-4311-dbd0-a39299cd6a44"
      },
      "outputs": [
        {
          "output_type": "execute_result",
          "data": {
            "text/plain": [
              "DataFrame[]"
            ]
          },
          "metadata": {},
          "execution_count": 9
        }
      ],
      "source": [
        "# 7. Cached the temporary table home_sales\n",
        "spark.sql(\"CACHE table home_sales\")"
      ]
    },
    {
      "cell_type": "code",
      "execution_count": 10,
      "metadata": {
        "id": "4opVhbvxtL-i",
        "colab": {
          "base_uri": "https://localhost:8080/"
        },
        "outputId": "b9fcdaeb-bff2-4496-bcbc-e1464ddbd349"
      },
      "outputs": [
        {
          "output_type": "execute_result",
          "data": {
            "text/plain": [
              "True"
            ]
          },
          "metadata": {},
          "execution_count": 10
        }
      ],
      "source": [
        "# 8. Checking if the table is cached\n",
        "spark.catalog.isCached('home_sales')"
      ]
    },
    {
      "cell_type": "code",
      "execution_count": 11,
      "metadata": {
        "colab": {
          "base_uri": "https://localhost:8080/"
        },
        "id": "5GnL46lwTSEk",
        "outputId": "e748cd05-e8b8-49ff-8d2b-5fb165de01c7"
      },
      "outputs": [
        {
          "output_type": "stream",
          "name": "stdout",
          "text": [
            "+----------+-----------+\n",
            "| AVG_PRICE|View_Rating|\n",
            "+----------+-----------+\n",
            "|1061201.42|         99|\n",
            "|1053739.33|         98|\n",
            "|1129040.15|         97|\n",
            "|1017815.92|         96|\n",
            "| 1054325.6|         95|\n",
            "| 1033536.2|         94|\n",
            "|1026006.06|         93|\n",
            "| 970402.55|         92|\n",
            "|1137372.73|         91|\n",
            "|1062654.16|         90|\n",
            "|1107839.15|         89|\n",
            "|1031719.35|         88|\n",
            "| 1072285.2|         87|\n",
            "|1070444.25|         86|\n",
            "|1056336.74|         85|\n",
            "|1117233.13|         84|\n",
            "|1033965.93|         83|\n",
            "| 1063498.0|         82|\n",
            "|1053472.79|         81|\n",
            "| 991767.38|         80|\n",
            "+----------+-----------+\n",
            "only showing top 20 rows\n",
            "\n",
            "--- 0.6384410858154297 seconds ---\n"
          ]
        }
      ],
      "source": [
        "# 9. Using the cached data, running the query that filters out the view ratings with average price\n",
        "#  greater than or equal to $350,000. Determining the runtime and comparing it to uncached runtime\n",
        "\n",
        "start_time = time.time()\n",
        "\n",
        "view_avg_price2= spark.sql(\"SELECT ROUND(AVG(price),2) AS AVG_PRICE, view AS View_Rating FROM home_sales GROUP by View_Rating HAVING AVG_PRICE >=350000 ORDER by View_Rating DESC\")\n",
        "view_avg_price2.show()\n",
        "\n",
        "print(\"--- %s seconds ---\" % (time.time() - start_time))\n"
      ]
    },
    {
      "cell_type": "code",
      "execution_count": 12,
      "metadata": {
        "id": "Qm12WN9isHBR"
      },
      "outputs": [],
      "source": [
        "# 10. Partitioning by the \"date_built\" field on the formatted parquet home_sales data\n",
        "df.write.partitionBy(\"date_built\").parquet(\"part_home_sales\", mode=\"overwrite\")\n"
      ]
    },
    {
      "cell_type": "code",
      "execution_count": 13,
      "metadata": {
        "id": "AZ7BgY61sRqY"
      },
      "outputs": [],
      "source": [
        "# 11. Reading the parquet formatted data\n",
        "Parquet_home_sales_df = spark.read.parquet(\"part_home_sales\")\n"
      ]
    },
    {
      "cell_type": "code",
      "execution_count": 14,
      "metadata": {
        "id": "J6MJkHfvVcvh"
      },
      "outputs": [],
      "source": [
        "# 12. Creating a temporary table for the parquet data\n",
        "Parquet_home_sales_df.createOrReplaceTempView(\"part_home_sales\")\n"
      ]
    },
    {
      "cell_type": "code",
      "execution_count": 15,
      "metadata": {
        "colab": {
          "base_uri": "https://localhost:8080/"
        },
        "id": "G_Vhb52rU1Sn",
        "outputId": "c91c4d79-3a08-441a-a2bc-749035b621ed"
      },
      "outputs": [
        {
          "output_type": "stream",
          "name": "stdout",
          "text": [
            "+----------+-----------+\n",
            "| AVG_PRICE|View_Rating|\n",
            "+----------+-----------+\n",
            "|1061201.42|         99|\n",
            "|1053739.33|         98|\n",
            "|1129040.15|         97|\n",
            "|1017815.92|         96|\n",
            "| 1054325.6|         95|\n",
            "| 1033536.2|         94|\n",
            "|1026006.06|         93|\n",
            "| 970402.55|         92|\n",
            "|1137372.73|         91|\n",
            "|1062654.16|         90|\n",
            "|1107839.15|         89|\n",
            "|1031719.35|         88|\n",
            "| 1072285.2|         87|\n",
            "|1070444.25|         86|\n",
            "|1056336.74|         85|\n",
            "|1117233.13|         84|\n",
            "|1033965.93|         83|\n",
            "| 1063498.0|         82|\n",
            "|1053472.79|         81|\n",
            "| 991767.38|         80|\n",
            "+----------+-----------+\n",
            "only showing top 20 rows\n",
            "\n",
            "--- 0.9747140407562256 seconds ---\n"
          ]
        }
      ],
      "source": [
        "# 13. Run the query that filters out the view ratings with average price of greater than or equal to $350,000\n",
        "# with the parquet DataFrame. Round your average to two decimal places\n",
        "# Determining the runtime and comparing it to the cached version\n",
        "\n",
        "start_time = time.time()\n",
        "\n",
        "view_avg_price_parq= spark.sql(\"SELECT ROUND(AVG(price),2) AS AVG_PRICE, view AS View_Rating FROM part_home_sales GROUP by View_Rating HAVING AVG_PRICE >=350000 ORDER by View_Rating DESC\")\n",
        "view_avg_price_parq.show()\n",
        "\n",
        "print(\"--- %s seconds ---\" % (time.time() - start_time))"
      ]
    },
    {
      "cell_type": "code",
      "execution_count": 16,
      "metadata": {
        "id": "hjjYzQGjtbq8",
        "colab": {
          "base_uri": "https://localhost:8080/"
        },
        "outputId": "78133e52-1a0d-4dae-c71d-997284a02d09"
      },
      "outputs": [
        {
          "output_type": "execute_result",
          "data": {
            "text/plain": [
              "DataFrame[]"
            ]
          },
          "metadata": {},
          "execution_count": 16
        }
      ],
      "source": [
        "# 14. Uncached the home_sales temporary table\n",
        "spark.sql(\"CACHE table home_sales\")\n"
      ]
    },
    {
      "cell_type": "code",
      "execution_count": 17,
      "metadata": {
        "id": "Sy9NBvO7tlmm",
        "colab": {
          "base_uri": "https://localhost:8080/"
        },
        "outputId": "ec7860f8-a96e-43c1-bfb3-9569a513e00a"
      },
      "outputs": [
        {
          "output_type": "execute_result",
          "data": {
            "text/plain": [
              "True"
            ]
          },
          "metadata": {},
          "execution_count": 17
        }
      ],
      "source": [
        "# 15. Checking if the home_sales is no longer cached\n",
        "spark.catalog.isCached('home_sales')\n"
      ]
    },
    {
      "cell_type": "code",
      "execution_count": 17,
      "metadata": {
        "id": "Si-BNruRUGK3"
      },
      "outputs": [],
      "source": []
    }
  ],
  "metadata": {
    "colab": {
      "provenance": []
    },
    "gpuClass": "standard",
    "kernelspec": {
      "display_name": "Python 3 (ipykernel)",
      "language": "python",
      "name": "python3"
    },
    "language_info": {
      "codemirror_mode": {
        "name": "ipython",
        "version": 3
      },
      "file_extension": ".py",
      "mimetype": "text/x-python",
      "name": "python",
      "nbconvert_exporter": "python",
      "pygments_lexer": "ipython3",
      "version": "3.10.4"
    },
    "nteract": {
      "version": "0.28.0"
    }
  },
  "nbformat": 4,
  "nbformat_minor": 0
}